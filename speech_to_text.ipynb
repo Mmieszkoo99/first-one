{
  "nbformat": 4,
  "nbformat_minor": 0,
  "metadata": {
    "colab": {
      "provenance": []
    },
    "kernelspec": {
      "name": "python3",
      "display_name": "Python 3"
    },
    "language_info": {
      "name": "python"
    }
  },
  "cells": [
    {
      "cell_type": "code",
      "source": [],
      "metadata": {
        "id": "nMnSFHcuDN65"
      },
      "execution_count": null,
      "outputs": []
    },
    {
      "cell_type": "markdown",
      "source": [
        "#**wav2vec2-large-xlsr-53 test**"
      ],
      "metadata": {
        "id": "i2VOstNc6Z2o"
      }
    },
    {
      "cell_type": "code",
      "source": [
        "import torch\n",
        "import torchaudio\n",
        "from transformers import Wav2Vec2Processor, Wav2Vec2ForCTC\n",
        "from deep_translator import GoogleTranslator\n",
        "\n",
        "processor = Wav2Vec2Processor.from_pretrained(\"facebook/wav2vec2-large-xlsr-53\")\n",
        "model = Wav2Vec2ForCTC.from_pretrained(\"facebook/wav2vec2-large-xlsr-53\")\n",
        "\n",
        "audio_file = \"path/to/your/audio/file.wav\"\n",
        "\n",
        "waveform, sample_rate = torchaudio.load(audio_file)\n",
        "resampler = torchaudio.transforms.Resample(sample_rate, 16000)\n",
        "waveform = resampler(waveform)\n",
        "\n",
        "input_values = processor(waveform.squeeze().numpy(), return_tensors=\"pt\", sampling_rate=16000).input_values\n",
        "\n",
        "with torch.no_grad():\n",
        "    logits = model(input_values).logits\n",
        "\n",
        "predicted_ids = torch.argmax(logits, dim=-1)\n",
        "transcription = processor.decode(predicted_ids[0])\n",
        "\n",
        "print(\"Transkrypcja: \", transcription)\n",
        "\n"
      ],
      "metadata": {
        "id": "H-peO57Ax_9u"
      },
      "execution_count": null,
      "outputs": []
    },
    {
      "cell_type": "markdown",
      "source": [
        "#**mms-1b test**"
      ],
      "metadata": {
        "id": "QF5yA1CZ6Tk1"
      }
    },
    {
      "cell_type": "code",
      "source": [
        "# Load model directly\n",
        "from transformers import AutoProcessor, AutoModelForPreTraining\n",
        "\n",
        "processor = AutoProcessor.from_pretrained(\"facebook/mms-1b\")\n",
        "model = AutoModelForPreTraining.from_pretrained(\"facebook/mms-1b\")"
      ],
      "metadata": {
        "id": "JJL7X0MJx_wT"
      },
      "execution_count": null,
      "outputs": []
    },
    {
      "cell_type": "markdown",
      "source": [
        "#**mms-300m test**"
      ],
      "metadata": {
        "id": "QzGaJWFh6E7n"
      }
    },
    {
      "cell_type": "code",
      "source": [
        "# Load model directly\n",
        "from transformers import AutoProcessor, AutoModelForPreTraining\n",
        "\n",
        "processor = AutoProcessor.from_pretrained(\"facebook/mms-300m\")\n",
        "model = AutoModelForPreTraining.from_pretrained(\"facebook/mms-300m\")"
      ],
      "metadata": {
        "id": "I0pWMy__x_pr"
      },
      "execution_count": null,
      "outputs": []
    },
    {
      "cell_type": "code",
      "source": [],
      "metadata": {
        "id": "TAf-75Htx_eb"
      },
      "execution_count": null,
      "outputs": []
    }
  ]
}